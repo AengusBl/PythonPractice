{
 "cells": [
  {
   "cell_type": "code",
   "execution_count": 14,
   "id": "4c74c6f6",
   "metadata": {},
   "outputs": [
    {
     "name": "stdout",
     "output_type": "stream",
     "text": [
      "False\n",
      "False\n",
      "False\n",
      "False\n"
     ]
    }
   ],
   "source": [
    "import spacy\n",
    "nlp = spacy.load(\"en_core_web_sm\")\n",
    "doc = nlp(\"this is a string\")\n",
    "for token in doc:\n",
    "    print(token.like_num)"
   ]
  },
  {
   "cell_type": "code",
   "execution_count": 17,
   "id": "bc624d9c",
   "metadata": {},
   "outputs": [
    {
     "name": "stdout",
     "output_type": "stream",
     "text": [
      "1995909169258310477 this\n"
     ]
    }
   ],
   "source": [
    "lex = nlp.vocab[\"this\"]\n",
    "print(lex.orth, lex.text)"
   ]
  },
  {
   "cell_type": "code",
   "execution_count": 22,
   "id": "621af09e",
   "metadata": {},
   "outputs": [
    {
     "name": "stdout",
     "output_type": "stream",
     "text": [
      "<spacy.strings.StringStore object at 0x12f439a50>\n"
     ]
    }
   ],
   "source": [
    "from spacy.lang.en import English\n"
   ]
  },
  {
   "cell_type": "code",
   "execution_count": 27,
   "id": "12ec012f",
   "metadata": {},
   "outputs": [
    {
     "name": "stdout",
     "output_type": "stream",
     "text": [
      "4578410152339589874\n"
     ]
    }
   ],
   "source": [
    "print(English().vocab.strings[\"near\"])"
   ]
  },
  {
   "cell_type": "code",
   "execution_count": 2,
   "id": "88c87ea0",
   "metadata": {},
   "outputs": [
    {
     "name": "stdout",
     "output_type": "stream",
     "text": [
      "0.4709817925911277\n"
     ]
    }
   ],
   "source": [
    "import spacy\n",
    "nlp = spacy.load(\"en_core_web_md\")\n",
    "a = nlp(\"presidential candidate\")\n",
    "b = nlp(\"electorally\")\n",
    "\n",
    "print(a.similarity(b))"
   ]
  },
  {
   "cell_type": "code",
   "execution_count": 3,
   "id": "fc0192f4",
   "metadata": {},
   "outputs": [
    {
     "name": "stdout",
     "output_type": "stream",
     "text": [
      "0.39934588196384196\n"
     ]
    }
   ],
   "source": [
    "c = nlp(\"Oh how I wish my heart had a candidate for whom I would pick flowers and run around laughing hihi\")\n",
    "print(a.similarity(c))"
   ]
  },
  {
   "cell_type": "code",
   "execution_count": 5,
   "id": "3ebb01a3",
   "metadata": {},
   "outputs": [
    {
     "name": "stdout",
     "output_type": "stream",
     "text": [
      "0.240295\n"
     ]
    }
   ],
   "source": [
    "print(a.vector[0])"
   ]
  },
  {
   "cell_type": "code",
   "execution_count": null,
   "id": "185fb2a5",
   "metadata": {},
   "outputs": [],
   "source": []
  }
 ],
 "metadata": {
  "kernelspec": {
   "display_name": "Python 3 (ipykernel)",
   "language": "python",
   "name": "python3"
  },
  "language_info": {
   "codemirror_mode": {
    "name": "ipython",
    "version": 3
   },
   "file_extension": ".py",
   "mimetype": "text/x-python",
   "name": "python",
   "nbconvert_exporter": "python",
   "pygments_lexer": "ipython3",
   "version": "3.7.13"
  }
 },
 "nbformat": 4,
 "nbformat_minor": 5
}
