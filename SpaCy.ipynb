{
 "cells": [
  {
   "cell_type": "code",
   "execution_count": 14,
   "id": "4c74c6f6",
   "metadata": {},
   "outputs": [
    {
     "name": "stdout",
     "output_type": "stream",
     "text": [
      "False\n",
      "False\n",
      "False\n",
      "False\n"
     ]
    }
   ],
   "source": [
    "import spacy\n",
    "nlp = spacy.load(\"en_core_web_sm\")\n",
    "doc = nlp(\"this is a string\")\n",
    "for token in doc:\n",
    "    print(token.like_num)"
   ]
  },
  {
   "cell_type": "code",
   "execution_count": 16,
   "id": "b2fe27c6",
   "metadata": {
    "scrolled": true
   },
   "outputs": [
    {
     "ename": "NameError",
     "evalue": "name 'ent' is not defined",
     "output_type": "error",
     "traceback": [
      "\u001b[0;31m---------------------------------------------------------------------------\u001b[0m",
      "\u001b[0;31mNameError\u001b[0m                                 Traceback (most recent call last)",
      "\u001b[0;32m/var/folders/_3/hmknjrps1272b7f0ytp4kbp40000gn/T/ipykernel_4731/4128705011.py\u001b[0m in \u001b[0;36m<module>\u001b[0;34m\u001b[0m\n\u001b[0;32m----> 1\u001b[0;31m \u001b[0mprint\u001b[0m\u001b[0;34m(\u001b[0m\u001b[0ment\u001b[0m\u001b[0;34m.\u001b[0m\u001b[0mlabel_\u001b[0m\u001b[0;34m)\u001b[0m\u001b[0;34m\u001b[0m\u001b[0;34m\u001b[0m\u001b[0m\n\u001b[0m",
      "\u001b[0;31mNameError\u001b[0m: name 'ent' is not defined"
     ]
    }
   ],
   "source": [
    "print(ent.label_)"
   ]
  },
  {
   "cell_type": "code",
   "execution_count": 17,
   "id": "bc624d9c",
   "metadata": {},
   "outputs": [
    {
     "name": "stdout",
     "output_type": "stream",
     "text": [
      "1995909169258310477 this\n"
     ]
    }
   ],
   "source": [
    "lex = nlp.vocab[\"this\"]\n",
    "print(lex.orth, lex.text)"
   ]
  },
  {
   "cell_type": "code",
   "execution_count": 22,
   "id": "621af09e",
   "metadata": {},
   "outputs": [
    {
     "name": "stdout",
     "output_type": "stream",
     "text": [
      "<spacy.strings.StringStore object at 0x12f439a50>\n"
     ]
    }
   ],
   "source": [
    "from spacy.lang.en import English\n"
   ]
  },
  {
   "cell_type": "code",
   "execution_count": 28,
   "id": "a0e9225a",
   "metadata": {},
   "outputs": [
    {
     "name": "stdout",
     "output_type": "stream",
     "text": [
      "nuthin\n",
      "there\n",
      "havin\n",
      "Need\n",
      "Somethin\n",
      "gon\n",
      "got\n",
      "it\n",
      "is\n",
      "Might\n",
      "It\n",
      "where\n",
      "must\n",
      "had\n",
      "does\n",
      "Why\n",
      "Would\n",
      "do\n",
      "Wo\n",
      "might\n",
      "when\n",
      "Is\n",
      "she\n",
      "Has\n",
      "pm\n",
      "ought\n",
      "may\n",
      "all\n",
      "Doin\n",
      "what\n",
      "nothin\n",
      "Must\n",
      "somethin\n",
      "What\n",
      "When\n",
      "Gon\n",
      "re\n",
      "Have\n",
      "There\n",
      "You\n",
      "lovin\n",
      "doin\n",
      "Nuthin\n",
      "Let\n",
      "xDD\n",
      "Ai\n",
      "Does\n",
      "not\n",
      "Could\n",
      "That\n",
      "did\n",
      "I\n",
      "Not\n",
      "Do\n",
      "would\n",
      "has\n",
      "Was\n",
      "XD\n",
      "Sha\n",
      "Ought\n",
      "d\n",
      "have\n",
      "Who\n",
      "She\n",
      "sha\n",
      "Did\n",
      "need\n",
      "s\n",
      "m\n",
      "cause\n",
      "you\n",
      "am\n",
      "was\n",
      "y\n",
      "ol\n",
      "Where\n",
      "nt\n",
      "can\n",
      "we\n",
      "May\n",
      "em\n",
      "who\n",
      "why\n",
      "Are\n",
      "how\n",
      "could\n",
      "Ca\n",
      "that\n",
      "ca\n",
      "Should\n",
      "Havin\n",
      "He\n",
      "na\n",
      "were\n",
      "i\n",
      "ta\n",
      "xD\n",
      "a\n",
      "dare\n",
      "Nothin\n",
      "ll\n",
      "Were\n",
      "How\n",
      "They\n",
      "ai\n",
      "Had\n",
      "nuff\n",
      "Got\n",
      "they\n",
      "XDD\n",
      "We\n",
      "wo\n",
      "Goin\n",
      "he\n",
      "should\n",
      "are\n",
      "Can\n",
      "Lovin\n",
      "goin\n",
      "let\n",
      "Ol\n",
      "ve\n",
      "Dare\n"
     ]
    }
   ],
   "source": [
    "for i in English().vocab:\n",
    "    if i.is_alpha:\n",
    "        print(i.text)"
   ]
  },
  {
   "cell_type": "code",
   "execution_count": 27,
   "id": "12ec012f",
   "metadata": {},
   "outputs": [
    {
     "name": "stdout",
     "output_type": "stream",
     "text": [
      "4578410152339589874\n"
     ]
    }
   ],
   "source": [
    "print(English().vocab.strings[\"near\"])"
   ]
  },
  {
   "cell_type": "code",
   "execution_count": 2,
   "id": "88c87ea0",
   "metadata": {},
   "outputs": [
    {
     "name": "stdout",
     "output_type": "stream",
     "text": [
      "0.4709817925911277\n"
     ]
    }
   ],
   "source": [
    "import spacy\n",
    "nlp = spacy.load(\"en_core_web_md\")\n",
    "a = nlp(\"presidential candidate\")\n",
    "b = nlp(\"electorally\")\n",
    "\n",
    "print(a.similarity(b))"
   ]
  },
  {
   "cell_type": "code",
   "execution_count": 3,
   "id": "fc0192f4",
   "metadata": {},
   "outputs": [
    {
     "name": "stdout",
     "output_type": "stream",
     "text": [
      "0.39934588196384196\n"
     ]
    }
   ],
   "source": [
    "c = nlp(\"Oh how I wish my heart had a candidate for whom I would pick flowers and run around laughing hihi\")\n",
    "print(a.similarity(c))"
   ]
  },
  {
   "cell_type": "code",
   "execution_count": 5,
   "id": "3ebb01a3",
   "metadata": {},
   "outputs": [
    {
     "name": "stdout",
     "output_type": "stream",
     "text": [
      "0.240295\n"
     ]
    }
   ],
   "source": [
    "print(a.vector[0])"
   ]
  },
  {
   "cell_type": "code",
   "execution_count": null,
   "id": "185fb2a5",
   "metadata": {},
   "outputs": [],
   "source": []
  }
 ],
 "metadata": {
  "kernelspec": {
   "display_name": "Python 3 (ipykernel)",
   "language": "python",
   "name": "python3"
  },
  "language_info": {
   "codemirror_mode": {
    "name": "ipython",
    "version": 3
   },
   "file_extension": ".py",
   "mimetype": "text/x-python",
   "name": "python",
   "nbconvert_exporter": "python",
   "pygments_lexer": "ipython3",
   "version": "3.7.13"
  }
 },
 "nbformat": 4,
 "nbformat_minor": 5
}
